{
 "cells": [
  {
   "cell_type": "code",
   "execution_count": 1,
   "metadata": {},
   "outputs": [],
   "source": [
    "#Importo los módulos necesarios\n",
    "\n",
    "from astropy.io import fits\n",
    "import numpy as np\n",
    "import pandas as pd\n"
   ]
  },
  {
   "cell_type": "code",
   "execution_count": 2,
   "metadata": {},
   "outputs": [],
   "source": [
    "#Cargamos y leemos datos:\n",
    "\n",
    "name='qsos14_added_value.fit'\n",
    "hdulp=fits.open(name)\n",
    "hdulp[1].header\n",
    "cols = hdulp[1].columns"
   ]
  },
  {
   "cell_type": "code",
   "execution_count": 3,
   "metadata": {},
   "outputs": [],
   "source": [
    "#Definimos los arrays con las columnas que vamos a usar:\n",
    "\n",
    "\n",
    "logL5100=hdulp[1].data['logL5100']  #L5100 en erg/s\n",
    "logL3000=hdulp[1].data['logL3000']  #L3000 en erg/s\n",
    "logL_MgII=hdulp[1].data['logLMgII-BR'] #L_MgII en erg/s\n",
    "FWHM_Hb = hdulp[1].data['FWHMHb-BR'] #FWHM(Hb) en km/s\n",
    "FWHM_mg = hdulp[1].data['FWHMMgII-BR'] #FWHM(MgII) en km/s\n",
    "\n",
    "#Para el CIV, probar:\n",
    "logL1350=hdulp[1].data['logL1350'] #L1350 en erg/s. (Realmente según la ec. necesito L1450)\n",
    "logL_CIV = hdulp[1].data['logLCIV'] #L_CIV en erg/s\n",
    "FWHM_c = hdulp[1].data['FWHMCIV'] #FWHM(CIV) en km/s\n",
    "\n",
    "\n",
    "\n",
    "logMBH= hdulp[1].data['logMBH']  #Logaritmo de la masa de los BH en Msun\n"
   ]
  },
  {
   "cell_type": "code",
   "execution_count": 4,
   "metadata": {},
   "outputs": [],
   "source": [
    "#Hallamos L5100, L3000 y L_MgII para usarlo en las ecuaciones\n",
    "\n",
    "L5100=[]     \n",
    "for i in logL5100:\n",
    "    res=10**i\n",
    "    L5100.append(res)\n",
    "    \n",
    "L3000=[]\n",
    "for i in logL3000:\n",
    "    res2=10**i\n",
    "    L3000.append(res2)\n",
    "\n",
    "L_MgII=[]\n",
    "for i in logL_MgII:\n",
    "    res3=10**i\n",
    "    L_MgII.append(res3)\n",
    "\n",
    "#Prueba para C: hallamos L1350 y L_CIV:\n",
    "L1350=[]\n",
    "for i in logL1350:\n",
    "    res4=10*i\n",
    "    L1350.append(res4)\n",
    "\n",
    "L_CIV=[]\n",
    "for i in logL_CIV:\n",
    "    res5=10*i\n",
    "    L_CIV.append(i)\n",
    "    \n",
    "    "
   ]
  },
  {
   "cell_type": "code",
   "execution_count": 5,
   "metadata": {},
   "outputs": [],
   "source": [
    "#Calclar la masa según ecuaciones del paper[2]:\n",
    "    #Ecuaciones para M_BH(Hb) y M_BH(MgII)\n",
    "\n",
    "def M_Hb(L5100,FWHM_Hb):\n",
    "    \n",
    "    return np.log10(1.05*(10**8)*((L5100/(10**46))**0.65)*((FWHM_Hb/(10**3))**2))\n",
    "\n",
    "def M_mg(L3000,FWHM_mg): #Primera estimación con el MgII\n",
    "    \n",
    "    return np.log10(5.6*(10**6)*((L3000/(10**44))**0.62)*((FWHM_mg/(10**3))**2))\n",
    "\n",
    "def M_MgII(L_MgII,FWHM_mg):  #Segunda estimación con el MgII\n",
    "    \n",
    "    return np.log10(6.79*(10**6)*((L_MgII/(10**42))**0.5)*((FWHM_mg/(10**3))**2))\n",
    "\n",
    "\n",
    "\n",
    "####Pruebas carbono\n",
    "\n",
    "def mu_CIV (L1350,FWHM_c): #Debería ser la línea 1450 pero no está en los datos (solo por probar)\n",
    "    \n",
    "    return np.log10(2.09*(10**8)*((L1350/(10**46))**0.50)*((FWHM_c/(10**3))**2))\n",
    "\n",
    "def mu_CIV_2 (L_CIV,FWHM_c):\n",
    "    \n",
    "    return np.log10(2.09*(10**8)*((L_CIV/(10**46))**0.55)*((FWHM_c/(10**3))**2))\n"
   ]
  },
  {
   "cell_type": "code",
   "execution_count": 6,
   "metadata": {},
   "outputs": [],
   "source": [
    "#Masas según estimación M_BH(Hb) y M_BH(MgII)\n",
    "\n",
    "Mbh_hb=[]  #Masas obtenidas según las estimaciones de cada línea usando las ecuaciones anteriores. [En M_sun]\n",
    "for i,j in zip(L5100,FWHM_Hb):\n",
    "    masas= M_Hb(i,j)\n",
    "    Mbh_hb.append(masas)\n",
    "    \n",
    "    \n",
    "Mbh_mg=[]  #Primer método con MgII\n",
    "for i,j in zip(L3000,FWHM_mg):\n",
    "    masas2= M_mg(i,j)\n",
    "    Mbh_mg.append(masas2)\n",
    "    \n",
    "Mbh_mg2=[]  #Segundo método con MgII\n",
    "for i,j in zip(L_MgII,FWHM_mg):\n",
    "    masas3= M_MgII(i,j)\n",
    "    Mbh_mg2.append(masas3)\n",
    "    \n",
    "##Pruebas carbono\n",
    "    \n",
    "mu1_CIV=[]  \n",
    "for i,j in zip(L1350,FWHM_c):\n",
    "    masas4= mu_CIV(i,j)\n",
    "    mu1_CIV.append(masas4)\n",
    "        \n",
    "mu2_CIV=[]  \n",
    "for i,j in zip(L_CIV,FWHM_c):\n",
    "    masas5= mu_CIV_2(i,j)\n",
    "    mu2_CIV.append(masas5)"
   ]
  },
  {
   "cell_type": "code",
   "execution_count": 7,
   "metadata": {},
   "outputs": [
    {
     "name": "stdout",
     "output_type": "stream",
     "text": [
      "        Masa_datos  Mbh_Hb  Mbh_MgII (1)  MBh_MgII (2)    Mu1_CIV    Mu2_CIV\n",
      "0         8.744595     NaN      8.750739      8.695275 -12.252272 -14.976685\n",
      "1         8.826519     NaN           NaN           NaN -12.025120 -14.750762\n",
      "2         8.657381     NaN      8.716960      8.709823        NaN        NaN\n",
      "3         9.225701     NaN           NaN           NaN -11.800715 -14.524688\n",
      "4         8.502115     NaN           NaN           NaN -12.436036 -15.161685\n",
      "...            ...     ...           ...           ...        ...        ...\n",
      "298238    9.513645     NaN      9.666163      9.507254        NaN -15.230643\n",
      "298239    8.560255     NaN      8.615667      8.520238        NaN -15.167811\n",
      "298240    8.753700     NaN      8.805096      8.870440        NaN        NaN\n",
      "298241    9.352207     NaN      9.486683      9.360484        NaN        NaN\n",
      "298242    8.616661     NaN      9.087578      8.876493 -12.503558 -15.228632\n",
      "\n",
      "[298243 rows x 6 columns]\n"
     ]
    }
   ],
   "source": [
    "#Tabla para comaprar la masa obtenida con cada método con la masa de los datos.  Omitir los del C\n",
    "\n",
    "df= pd.DataFrame({\"Masa_datos\": logMBH, \"Mbh_Hb\": Mbh_hb, \"Mbh_MgII (1)\": Mbh_mg, \"MBh_MgII (2)\": Mbh_mg2, \"Mu1_CIV\": mu1_CIV, \"Mu2_CIV\": mu2_CIV})\n",
    "\n",
    "print(df)\n"
   ]
  },
  {
   "cell_type": "code",
   "execution_count": 8,
   "metadata": {},
   "outputs": [
    {
     "name": "stdout",
     "output_type": "stream",
     "text": [
      "        Masa_datos  Mbh_Hb  Mbh_MgII (1)  MBh_MgII (2)\n",
      "0         8.744595     NaN      8.750739      8.695275\n",
      "1         8.826519     NaN           NaN           NaN\n",
      "2         8.657381     NaN      8.716960      8.709823\n",
      "3         9.225701     NaN           NaN           NaN\n",
      "4         8.502115     NaN           NaN           NaN\n",
      "...            ...     ...           ...           ...\n",
      "298238    9.513645     NaN      9.666163      9.507254\n",
      "298239    8.560255     NaN      8.615667      8.520238\n",
      "298240    8.753700     NaN      8.805096      8.870440\n",
      "298241    9.352207     NaN      9.486683      9.360484\n",
      "298242    8.616661     NaN      9.087578      8.876493\n",
      "\n",
      "[298243 rows x 4 columns]\n"
     ]
    }
   ],
   "source": [
    "df2 = pd.DataFrame({\"Masa_datos\": logMBH, \"Mbh_Hb\": Mbh_hb, \"Mbh_MgII (1)\": Mbh_mg, \"MBh_MgII (2)\": Mbh_mg2})\n",
    "print(df2)"
   ]
  },
  {
   "cell_type": "code",
   "execution_count": null,
   "metadata": {},
   "outputs": [],
   "source": []
  }
 ],
 "metadata": {
  "kernelspec": {
   "display_name": "Python 3",
   "language": "python",
   "name": "python3"
  },
  "language_info": {
   "codemirror_mode": {
    "name": "ipython",
    "version": 3
   },
   "file_extension": ".py",
   "mimetype": "text/x-python",
   "name": "python",
   "nbconvert_exporter": "python",
   "pygments_lexer": "ipython3",
   "version": "3.8.3"
  }
 },
 "nbformat": 4,
 "nbformat_minor": 4
}
